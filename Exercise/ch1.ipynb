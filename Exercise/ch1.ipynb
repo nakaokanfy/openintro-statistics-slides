{
 "cells": [
  {
   "cell_type": "markdown",
   "metadata": {
    "vscode": {
     "languageId": "r"
    }
   },
   "source": [
    "# 1.1 片頭痛と針治療、パートI\n",
    "\n",
    "片頭痛に対する針治療の効果を測定するあるランダム化実験が行われた。この統計的実験では89名の女性患者をランダムに処理群と対照群に振り分け、43名を処理群として針治療が行われ、対照群の46名を対照群としてプラセボ（偽薬、この場合は間違った場所への針治療）が用いられた。針治療の24時間後に片頭痛から解放されたか否かを問診されたが、結果は次表に要約されている。\n",
    "\n",
    "| 患者  | 痛みの除去 | はい | いいえ | 全体 |\n",
    "|-------|-------------|------|--------|------|\n",
    "| 処理群 |             | 10   | 33     | 43   |\n",
    "| 対照群 |             | 2    | 44     | 46   |\n",
    "| 合計  |             | 12   | 77     | 89   |\n",
    "\n",
    "(a) 処理群の患者で針治療を受けた後、24時間に痛みから解放されたパーセントを求めよ。\n",
    "\n",
    "(b) 対照群の患者で痛みから解放されたパーセントを求めよ。\n",
    "\n",
    "(c) 針治療を受けて24時間後にどちらの群の患者がより痛みから解放されたか。\n",
    "\n",
    "(d) この結果は片頭痛に苦しんでいるすべての患者にとり針治療が効果的であることを示唆しているだろうか。なおこの結論は観察事実に基づいた唯一の結論とは限らないだろう。2つの群に分けた患者への針治療による24時間後の効果の差についてどのような解釈が可能だろうか。\n",
    "\n",
    "原論文から転載した図は片頭痛に対する適切な針治療の位置（M）および不適切な針治療の位置（S）を示している。"
   ]
  },
  {
   "cell_type": "markdown",
   "metadata": {},
   "source": [
    "# 1.5 うその研究例. \n",
    "ある研究者が正直, 年齢, 自己抑制などの関係に関心があり 5 歳∼15 歳間の 160 名の子供を 対象に実験を行った. 参加者はまず年齢, 性別, 1 人っ子か否か, を報告した. 次にコイン投げを各人で行ってもら い, 紙に裏か表を記録, 報告してもらうが, 表と報告した者にのみ褒美を与えるとあらかじめ説明しておいた\n",
    "\n",
    "(a) 研究の課題を述べよ.\n",
    "\n",
    "(b) この研究の対象は誰で何人が関係するだろうか.\n",
    "\n",
    "(c) 研究結果は次のようにまとめられた. 「半分の生徒はずるをしないように言われ, 半分は何も言われない, とする. 何の指示もない生徒のグループは生徒の分類に関わらずうそを言う確率は一様であった. うそを言わないように言われた生徒のグループでは女子生徒はよりうそをつかないが, 男子生徒ではうそをつく傾向があり, これは年齢に依存しなかった.」この研究ではこうした発見を導くため幾つの変数が記録されただろうか. 変数名とそのタイプを述べよ.\n",
    "\n"
   ]
  },
  {
   "cell_type": "markdown",
   "metadata": {},
   "source": [
    "(a) 研究の課題は、正直さ、年齢、自己抑制などの要因が子供たちの行動にどのように影響するかを調査することである。\n",
    "\n",
    "(b) この研究の対象は5歳から15歳の160名の子供である。\n",
    "\n",
    "(c) この研究では以下の変数が記録された：\n",
    "\n",
    "1. 年齢（量的・比例尺度・厳密には連続だが、実際のデータ分析や統計では 離散変数として扱われることが多い）\n",
    "2. 性別（カテゴリ型・名義尺度）\n",
    "3. 1人っ子か否か（カテゴリ型・名義尺度）\n",
    "4. コイン投げの結果（カテゴリ型：裏/表・名義尺度）\n",
    "5. うそをついたかどうか（カテゴリ型：はい/いいえ・名義尺度）\n",
    "6. 指示の有無（カテゴリ型：指示あり/指示なし・名義尺度）"
   ]
  },
  {
   "cell_type": "markdown",
   "metadata": {
    "vscode": {
     "languageId": "ini"
    }
   },
   "source": [
    "# 1.7 片頭痛と針治療, パート II \n",
    "\n",
    "練習問題 1.1 では針治療が片頭痛に有効か否かの研究について議論した. 研究者はランダム化比較研究を行い, 患者を 2 つの群, 処理群と対照群にランダムに割り付けた. 処理群の患者は片頭 痛のために特に準備された針治療を受けたが, 対照群の患者は偽治療 (プラセボ) としてツボではない場所に針治 療を行った. 実験では治療を行い 24 時間後に患者は痛みが和らいだか否かを聞いた. この研究では何が説明変数, 目的変数だろうか."
   ]
  },
  {
   "cell_type": "markdown",
   "metadata": {
    "vscode": {
     "languageId": "r"
    }
   },
   "source": [
    "説明変数：鍼治療かどうか。\n",
    "\n",
    "目的変数：患者に痛みがなかったかどうか。"
   ]
  },
  {
   "cell_type": "markdown",
   "metadata": {
    "vscode": {
     "languageId": "r"
    }
   },
   "source": [
    "# 1.9 フィッシャーのアイリス・データ. \n",
    "\n",
    "ロナルド・フィッシャー卿は英国の統計家, 生物学者, 遺伝学者であった が 3 種類のアイリス (あやめ,setosa, versicolor, virginica) のがくの長さと深さ, 花びらの長さと深さを含むデー タを分析した. データ・セットには各種類の 50 個の花が含まれていた 14) .\n",
    "\n",
    "(a) データには何個の個体があるだろうか.\n",
    "\n",
    "(b) データに含まれる数値変数は幾つだろうか. 何が 数値変数だろうか, また離散変数か連続変数であるかも述べなさい.\n",
    "\n",
    "(c) データに含まれるカテゴリカル変数は幾つあるだろうか. 変数名と対応するカテゴリーを述べなさい."
   ]
  },
  {
   "cell_type": "code",
   "execution_count": 7,
   "metadata": {
    "vscode": {
     "languageId": "r"
    }
   },
   "outputs": [
    {
     "data": {
      "text/html": [
       "150"
      ],
      "text/latex": [
       "150"
      ],
      "text/markdown": [
       "150"
      ],
      "text/plain": [
       "[1] 150"
      ]
     },
     "metadata": {},
     "output_type": "display_data"
    },
    {
     "name": "stdout",
     "output_type": "stream",
     "text": [
      "'data.frame':\t150 obs. of  7 variables:\n",
      " $ sepal_length: num  5.35 5.62 7.05 5.86 5.9 ...\n",
      " $ sepal_width : num  3.32 3.31 3.13 2.6 2.95 ...\n",
      " $ petal_length: num  2.63 2.57 2.29 2.12 3.04 ...\n",
      " $ petal_width : num  1.92 1.72 1.42 1.56 1.66 ...\n",
      " $ setosa      : Factor w/ 2 levels \"FALSE\",\"TRUE\": 2 2 2 2 2 2 2 2 2 2 ...\n",
      " $ versicolor  : Factor w/ 2 levels \"FALSE\",\"TRUE\": 2 2 2 2 2 2 2 2 2 2 ...\n",
      " $ verginica   : Factor w/ 2 levels \"FALSE\",\"TRUE\": 2 2 2 2 2 2 2 2 2 2 ...\n"
     ]
    },
    {
     "data": {
      "text/html": [
       "<table class=\"dataframe\">\n",
       "<caption>A data.frame: 6 × 7</caption>\n",
       "<thead>\n",
       "\t<tr><th></th><th scope=col>sepal_length</th><th scope=col>sepal_width</th><th scope=col>petal_length</th><th scope=col>petal_width</th><th scope=col>setosa</th><th scope=col>versicolor</th><th scope=col>verginica</th></tr>\n",
       "\t<tr><th></th><th scope=col>&lt;dbl&gt;</th><th scope=col>&lt;dbl&gt;</th><th scope=col>&lt;dbl&gt;</th><th scope=col>&lt;dbl&gt;</th><th scope=col>&lt;fct&gt;</th><th scope=col>&lt;fct&gt;</th><th scope=col>&lt;fct&gt;</th></tr>\n",
       "</thead>\n",
       "<tbody>\n",
       "\t<tr><th scope=row>1</th><td>5.351619</td><td>3.315096</td><td>2.627137</td><td> 1.9152012</td><td>TRUE</td><td>TRUE</td><td>TRUE</td></tr>\n",
       "\t<tr><th scope=row>2</th><td>5.615858</td><td>3.307617</td><td>2.570967</td><td> 1.7233144</td><td>TRUE</td><td>TRUE</td><td>TRUE</td></tr>\n",
       "\t<tr><th scope=row>3</th><td>7.046967</td><td>3.132881</td><td>2.292192</td><td> 1.4176445</td><td>TRUE</td><td>TRUE</td><td>TRUE</td></tr>\n",
       "\t<tr><th scope=row>4</th><td>5.856407</td><td>2.596649</td><td>2.121230</td><td> 1.5575892</td><td>TRUE</td><td>TRUE</td><td>TRUE</td></tr>\n",
       "\t<tr><th scope=row>5</th><td>5.903430</td><td>2.952219</td><td>3.044261</td><td> 1.6585875</td><td>TRUE</td><td>TRUE</td><td>TRUE</td></tr>\n",
       "\t<tr><th scope=row>6</th><td>7.172052</td><td>2.887842</td><td>4.196769</td><td>-0.1304614</td><td>TRUE</td><td>TRUE</td><td>TRUE</td></tr>\n",
       "</tbody>\n",
       "</table>\n"
      ],
      "text/latex": [
       "A data.frame: 6 × 7\n",
       "\\begin{tabular}{r|lllllll}\n",
       "  & sepal\\_length & sepal\\_width & petal\\_length & petal\\_width & setosa & versicolor & verginica\\\\\n",
       "  & <dbl> & <dbl> & <dbl> & <dbl> & <fct> & <fct> & <fct>\\\\\n",
       "\\hline\n",
       "\t1 & 5.351619 & 3.315096 & 2.627137 &  1.9152012 & TRUE & TRUE & TRUE\\\\\n",
       "\t2 & 5.615858 & 3.307617 & 2.570967 &  1.7233144 & TRUE & TRUE & TRUE\\\\\n",
       "\t3 & 7.046967 & 3.132881 & 2.292192 &  1.4176445 & TRUE & TRUE & TRUE\\\\\n",
       "\t4 & 5.856407 & 2.596649 & 2.121230 &  1.5575892 & TRUE & TRUE & TRUE\\\\\n",
       "\t5 & 5.903430 & 2.952219 & 3.044261 &  1.6585875 & TRUE & TRUE & TRUE\\\\\n",
       "\t6 & 7.172052 & 2.887842 & 4.196769 & -0.1304614 & TRUE & TRUE & TRUE\\\\\n",
       "\\end{tabular}\n"
      ],
      "text/markdown": [
       "\n",
       "A data.frame: 6 × 7\n",
       "\n",
       "| <!--/--> | sepal_length &lt;dbl&gt; | sepal_width &lt;dbl&gt; | petal_length &lt;dbl&gt; | petal_width &lt;dbl&gt; | setosa &lt;fct&gt; | versicolor &lt;fct&gt; | verginica &lt;fct&gt; |\n",
       "|---|---|---|---|---|---|---|---|\n",
       "| 1 | 5.351619 | 3.315096 | 2.627137 |  1.9152012 | TRUE | TRUE | TRUE |\n",
       "| 2 | 5.615858 | 3.307617 | 2.570967 |  1.7233144 | TRUE | TRUE | TRUE |\n",
       "| 3 | 7.046967 | 3.132881 | 2.292192 |  1.4176445 | TRUE | TRUE | TRUE |\n",
       "| 4 | 5.856407 | 2.596649 | 2.121230 |  1.5575892 | TRUE | TRUE | TRUE |\n",
       "| 5 | 5.903430 | 2.952219 | 3.044261 |  1.6585875 | TRUE | TRUE | TRUE |\n",
       "| 6 | 7.172052 | 2.887842 | 4.196769 | -0.1304614 | TRUE | TRUE | TRUE |\n",
       "\n"
      ],
      "text/plain": [
       "  sepal_length sepal_width petal_length petal_width setosa versicolor verginica\n",
       "1 5.351619     3.315096    2.627137      1.9152012  TRUE   TRUE       TRUE     \n",
       "2 5.615858     3.307617    2.570967      1.7233144  TRUE   TRUE       TRUE     \n",
       "3 7.046967     3.132881    2.292192      1.4176445  TRUE   TRUE       TRUE     \n",
       "4 5.856407     2.596649    2.121230      1.5575892  TRUE   TRUE       TRUE     \n",
       "5 5.903430     2.952219    3.044261      1.6585875  TRUE   TRUE       TRUE     \n",
       "6 7.172052     2.887842    4.196769     -0.1304614  TRUE   TRUE       TRUE     "
      ]
     },
     "metadata": {},
     "output_type": "display_data"
    }
   ],
   "source": [
    "# (a) データには何個の個体があるだろうか.\n",
    "3 * 50\n",
    "\n",
    "# (b) データに含まれる数値変数は幾つだろうか. 何が 数値変数だろうか, また離散変数か連続変数であるかも述べなさい\n",
    "# 連続変数を生成\n",
    "set.seed(123)  # 再現性のためにシードを設定\n",
    "sepal_length <- rnorm(150, mean = 5.8, sd = 0.8)\n",
    "sepal_width <- rnorm(150, mean = 3.0, sd = 0.4)\n",
    "petal_length <- rnorm(150, mean = 3.7, sd = 1.5)\n",
    "petal_width <- rnorm(150, mean = 1.2, sd = 0.5)\n",
    "\n",
    "# カテゴリカル変数を生成\n",
    "setosa <- factor(rep(c(TRUE, FALSE), each = 75))\n",
    "versicolor <- factor(rep(c(TRUE, FALSE), each = 75))\n",
    "verginica <- factor(rep(c(TRUE, FALSE), each = 75))\n",
    "\n",
    "# data.frameを作成\n",
    "df <- data.frame(\n",
    "  sepal_length = sepal_length,\n",
    "  sepal_width = sepal_width,\n",
    "  petal_length = petal_length,\n",
    "  petal_width = petal_width,\n",
    "  setosa = setosa,\n",
    "  versicolor = versicolor,\n",
    "  verginica = verginica\n",
    ")\n",
    "\n",
    "# data.frameの内容を表示\n",
    "str(df)\n",
    "head(df)"
   ]
  },
  {
   "cell_type": "markdown",
   "metadata": {
    "vscode": {
     "languageId": "r"
    }
   },
   "source": [
    "# 1.11 US 空港\n",
    "\n",
    "以下の図は合衆国本土とワシントン DC 内の空港の地理的分布を示しているが, この図は各観 測点が空港であるデータベースに基づいて作成された (個人利用・所有 (private use,owened) と公共利用・所有 (public use,owned) がある).\n",
    "\n",
    "![](images/Q1.11.jpg)\n",
    "\n",
    "(a) この図の作成で用いられた変数を述べなさい.\n",
    "\n",
    "(b) この研究で使われた各変数は数値変数, カテゴリカル変数だろうか. 数値変数なら連続変数, 離散変数のどち らだろうか. またカテゴリカル変数なら順序付けられるだろうか."
   ]
  },
  {
   "cell_type": "raw",
   "metadata": {
    "vscode": {
     "languageId": "raw"
    }
   },
   "source": [
    "空港の所有状況：カテゴリカル変数、名義尺度\n",
    "空港の利用状況：カテゴリカル変数、名義尺度\n",
    "緯度：数値、連続\n",
    "経度：数値、連続"
   ]
  }
 ],
 "metadata": {
  "kernelspec": {
   "display_name": "R",
   "language": "R",
   "name": "ir"
  },
  "language_info": {
   "codemirror_mode": "r",
   "file_extension": ".r",
   "mimetype": "text/x-r-source",
   "name": "R",
   "pygments_lexer": "r",
   "version": "4.4.2"
  }
 },
 "nbformat": 4,
 "nbformat_minor": 2
}
