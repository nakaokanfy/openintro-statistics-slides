{
 "cells": [
  {
   "cell_type": "markdown",
   "metadata": {},
   "source": [
    "## 練習問題\n",
    "\n",
    "### 1.1\n",
    "\n",
    "片頭痛と針治療, パート I . 片頭痛に対する針治療の効果を測定するあるランダム化実験が行われた. この統 計的実験では 89 名の女性患者をランダムに処理群と対照群に振り分け, 43 名を処理群として針治療が行われ, 対 照群の 46 名を対照群としてプラセボ (偽薬, この場合は間違った場所への針治療) が用いられた. 針治療の 24 時 Neurol Sci (2011) 32 (Suppl 1):S173–S175 間後に片頭痛から解放されたか否かを問診されたが, 結果は次表に要約されている 2) .\n",
    "\n"
   ]
  },
  {
   "cell_type": "code",
   "execution_count": null,
   "metadata": {},
   "outputs": [],
   "source": [
    "import numpy as np\n",
    "from scipy.stats import chi2_contingency\n",
    "\n",
    "# データの作成\n",
    "data = np.array([[10, 33], [2, 44]])\n",
    "\n",
    "# カイ二乗検定の実行\n",
    "chi2, p, dof, expected = chi2_contingency(data)\n",
    "\n",
    "print(f\"カイ二乗値: {chi2}\")\n",
    "print(f\"p値: {p}\")\n",
    "print(f\"自由度: {dof}\")\n",
    "print(\"期待値:\")\n",
    "print(expected)"
   ]
  }
 ],
 "metadata": {
  "kernelspec": {
   "display_name": "Python 3",
   "language": "python",
   "name": "python3"
  },
  "language_info": {
   "codemirror_mode": {
    "name": "ipython",
    "version": 3
   },
   "file_extension": ".py",
   "mimetype": "text/x-python",
   "name": "python",
   "nbconvert_exporter": "python",
   "pygments_lexer": "ipython3",
   "version": "3.12.6"
  }
 },
 "nbformat": 4,
 "nbformat_minor": 2
}
